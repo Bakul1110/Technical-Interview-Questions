{
 "cells": [
  {
   "cell_type": "code",
   "execution_count": 1,
   "id": "8fe4a2e6",
   "metadata": {},
   "outputs": [
    {
     "name": "stdout",
     "output_type": "stream",
     "text": [
      "yes\n",
      "4\n",
      "Good Fit!\n"
     ]
    }
   ],
   "source": [
    "Masters = str(input())\n",
    "Experience = int(input())\n",
    "\n",
    "if Masters == \"yes\":\n",
    "    if Experience >=2:\n",
    "        print(\"Good Fit!\")\n",
    "    else:\n",
    "        print(\"Not a Good Fit!\")\n",
    "else:\n",
    "    print(\"Not suitable!\")\n"
   ]
  },
  {
   "cell_type": "markdown",
   "id": "7feb8c74",
   "metadata": {},
   "source": [
    "- __Given the first two term a1 and a2 of an ap series. Find the nth term of the series.__"
   ]
  },
  {
   "cell_type": "code",
   "execution_count": 2,
   "id": "fe571cc3",
   "metadata": {},
   "outputs": [],
   "source": [
    "def seriesap(a1,a2,N):\n",
    "    difference = a2-a1\n",
    "    nterm = a1+(N-1)*difference\n",
    "    return nterm\n",
    "    \n",
    "    "
   ]
  },
  {
   "cell_type": "code",
   "execution_count": 3,
   "id": "4efd6d78",
   "metadata": {},
   "outputs": [
    {
     "data": {
      "text/plain": [
       "12"
      ]
     },
     "execution_count": 3,
     "metadata": {},
     "output_type": "execute_result"
    }
   ],
   "source": [
    "seriesap(2,4,6)"
   ]
  },
  {
   "cell_type": "code",
   "execution_count": 4,
   "id": "7be98bdf",
   "metadata": {},
   "outputs": [
    {
     "data": {
      "text/plain": [
       "172"
      ]
     },
     "execution_count": 4,
     "metadata": {},
     "output_type": "execute_result"
    }
   ],
   "source": [
    "seriesap(12,44,6)"
   ]
  },
  {
   "cell_type": "markdown",
   "id": "734adf16",
   "metadata": {},
   "source": [
    "- __Check if the sum of digits is palindrome or not. example: 121,333,424 etc. are palindromes.__"
   ]
  },
  {
   "cell_type": "code",
   "execution_count": 5,
   "id": "aeb7a550",
   "metadata": {},
   "outputs": [],
   "source": [
    "def palindrome(num):\n",
    "   \n",
    "    newNum = 0\n",
    "    while(num>0):\n",
    "        newNum = newNum+ num%10\n",
    "        num//= 10\n",
    "    return newNum\n",
    "    revnewNum = 0\n",
    "    while(num>0):\n",
    "        revnewNum+= revnewnum*10+ num%10\n",
    "        num//10\n",
    "    return 1 if revnewNum == newNum else 0\n",
    "     \n",
    "    \n",
    "        \n",
    "    "
   ]
  },
  {
   "cell_type": "code",
   "execution_count": 6,
   "id": "372fa633",
   "metadata": {},
   "outputs": [
    {
     "data": {
      "text/plain": [
       "4"
      ]
     },
     "execution_count": 6,
     "metadata": {},
     "output_type": "execute_result"
    }
   ],
   "source": [
    "palindrome(121)"
   ]
  },
  {
   "cell_type": "code",
   "execution_count": null,
   "id": "8680e7e1",
   "metadata": {},
   "outputs": [],
   "source": []
  },
  {
   "cell_type": "code",
   "execution_count": 7,
   "id": "169fd54e",
   "metadata": {},
   "outputs": [],
   "source": [
    "def isPalindrome(N):\n",
    "    newNum = 0\n",
    "    while(N>0):\n",
    "        newNum+=N%10\n",
    "        N//=10\n",
    "    revNewNum=0\n",
    "    N=newNum\n",
    "    while(N>0):\n",
    "        revNewNum=revNewNum*10+N%10\n",
    "        N//=10\n",
    "    return 1 if revNewNum==newNum else 0\n"
   ]
  },
  {
   "cell_type": "code",
   "execution_count": null,
   "id": "959a48b5",
   "metadata": {},
   "outputs": [],
   "source": []
  },
  {
   "cell_type": "code",
   "execution_count": 8,
   "id": "5f0e73b3",
   "metadata": {},
   "outputs": [
    {
     "name": "stdout",
     "output_type": "stream",
     "text": [
      "1\n"
     ]
    }
   ],
   "source": [
    "print(isPalindrome(N=9292))\n"
   ]
  },
  {
   "cell_type": "markdown",
   "id": "3e618523",
   "metadata": {},
   "source": []
  },
  {
   "cell_type": "code",
   "execution_count": 9,
   "id": "a1786138",
   "metadata": {},
   "outputs": [],
   "source": [
    "def palindrome(n):\n",
    "    newNum = 0\n",
    "    while(n>0):\n",
    "        newNum+= n%10\n",
    "        n//=10\n",
    "    n = newNum\n",
    "    revnewnum = 0    \n",
    "    while(n>0):\n",
    "        revnewnum = revnewnum*10 + n%10\n",
    "        n//=10\n",
    "    return 1 if revnewnum == newNum else 0\n",
    "\n",
    "        \n",
    "        \n",
    "    "
   ]
  },
  {
   "cell_type": "code",
   "execution_count": 10,
   "id": "aed29132",
   "metadata": {},
   "outputs": [
    {
     "data": {
      "text/plain": [
       "0"
      ]
     },
     "execution_count": 10,
     "metadata": {},
     "output_type": "execute_result"
    }
   ],
   "source": [
    "palindrome(23443)"
   ]
  },
  {
   "cell_type": "markdown",
   "id": "cf6e2ccb",
   "metadata": {},
   "source": [
    "- __Find the kth digit from the right of  a ^ b that is a to the power b.__"
   ]
  },
  {
   "cell_type": "code",
   "execution_count": 11,
   "id": "5ae6c18f",
   "metadata": {},
   "outputs": [],
   "source": [
    "def find_kth(n1,n2,k):\n",
    "    x = pow(n1,n2)\n",
    "    temp = 0\n",
    "    while(k>0):\n",
    "        temp = x%10\n",
    "        x = x//10\n",
    "        k-=1\n",
    "    return temp    \n",
    "    \n",
    "    \n",
    "    \n",
    "#Got it!\n",
    "    "
   ]
  },
  {
   "cell_type": "code",
   "execution_count": 12,
   "id": "e8ecc02d",
   "metadata": {},
   "outputs": [
    {
     "data": {
      "text/plain": [
       "5"
      ]
     },
     "execution_count": 12,
     "metadata": {},
     "output_type": "execute_result"
    }
   ],
   "source": [
    "find_kth(2,8,2)"
   ]
  },
  {
   "cell_type": "code",
   "execution_count": 13,
   "id": "3143b16f",
   "metadata": {},
   "outputs": [
    {
     "data": {
      "text/plain": [
       "32531893445129332611554645425981044974375991037324055622153329695632580166211412428357143"
      ]
     },
     "execution_count": 13,
     "metadata": {},
     "output_type": "execute_result"
    }
   ],
   "source": [
    "23**65"
   ]
  },
  {
   "cell_type": "code",
   "execution_count": 14,
   "id": "d89cbc87",
   "metadata": {},
   "outputs": [],
   "source": [
    "def isprime(n):\n",
    "    if (n==1):\n",
    "        return 0\n",
    "    num = 2\n",
    "    while (num*num<=n):\n",
    "        if (n%num == 0):\n",
    "            return 0\n",
    "        num+=1\n",
    "    return 1      "
   ]
  },
  {
   "cell_type": "code",
   "execution_count": 34,
   "id": "3a2711a8",
   "metadata": {},
   "outputs": [],
   "source": [
    "def isprime(n = range(1,101)):  #give range in the function\n",
    "    if (n == 1):\n",
    "        return 0\n",
    "    num = 2\n",
    "    while(num>=0):\n",
    "        if (n%num == 0):\n",
    "            return 0\n",
    "        num-=1\n",
    "        return 1"
   ]
  },
  {
   "cell_type": "code",
   "execution_count": 39,
   "id": "25c84b28",
   "metadata": {},
   "outputs": [
    {
     "data": {
      "text/plain": [
       "1"
      ]
     },
     "execution_count": 39,
     "metadata": {},
     "output_type": "execute_result"
    }
   ],
   "source": [
    "isprime(111)"
   ]
  },
  {
   "cell_type": "code",
   "execution_count": 64,
   "id": "e5d2587a",
   "metadata": {},
   "outputs": [],
   "source": [
    "def isprime(n):\n",
    "    #for i in range(1,101):\n",
    "        if (i == 1):\n",
    "            print(0)\n",
    "        num = 2\n",
    "        while(num*num <= n):\n",
    "            if (i%num == 0):\n",
    "                return 0\n",
    "        num-=1\n",
    "        return 1\n",
    "            \n",
    "            \n",
    "            \n",
    "        \n",
    "     "
   ]
  },
  {
   "cell_type": "code",
   "execution_count": 65,
   "id": "0296b8d9",
   "metadata": {},
   "outputs": [
    {
     "data": {
      "text/plain": [
       "0"
      ]
     },
     "execution_count": 65,
     "metadata": {},
     "output_type": "execute_result"
    }
   ],
   "source": [
    "isprime(100)"
   ]
  },
  {
   "cell_type": "code",
   "execution_count": 15,
   "id": "05b5e302",
   "metadata": {},
   "outputs": [],
   "source": [
    "def isprime(num):\n",
    "    if (num == 1):\n",
    "        return 0\n",
    "    n = 2\n",
    "    while(n*n <=num):\n",
    "        if(num%n ==0):\n",
    "            return 0\n",
    "        n+=1\n",
    "    return 1    "
   ]
  },
  {
   "cell_type": "code",
   "execution_count": 16,
   "id": "c81a49c6",
   "metadata": {},
   "outputs": [
    {
     "data": {
      "text/plain": [
       "1"
      ]
     },
     "execution_count": 16,
     "metadata": {},
     "output_type": "execute_result"
    }
   ],
   "source": [
    "isprime(17)"
   ]
  },
  {
   "cell_type": "code",
   "execution_count": 17,
   "id": "0ea6a7f3",
   "metadata": {},
   "outputs": [
    {
     "name": "stdout",
     "output_type": "stream",
     "text": [
      "The original string is : Geeksforgeeks\n",
      "The reversed string(using loops) is : skeegrofskeeG\n"
     ]
    }
   ],
   "source": [
    "def reverse(s):\n",
    "\tstr = \"\"\n",
    "\tfor i in s:\n",
    "\t\tstr = i + str\n",
    "\treturn str\n",
    "\n",
    "s = \"Geeksforgeeks\"\n",
    "\n",
    "print(\"The original string is : \", end=\"\")\n",
    "print(s)\n",
    "\n",
    "print(\"The reversed string(using loops) is : \", end=\"\")\n",
    "print(reverse(s))\n"
   ]
  },
  {
   "cell_type": "code",
   "execution_count": 18,
   "id": "3f5282f3",
   "metadata": {},
   "outputs": [
    {
     "name": "stdout",
     "output_type": "stream",
     "text": [
      "Bakul Verma\n"
     ]
    },
    {
     "data": {
      "text/plain": [
       "'amreV lukaB'"
      ]
     },
     "execution_count": 18,
     "metadata": {},
     "output_type": "execute_result"
    }
   ],
   "source": [
    "p= 'Bakul Verma'\n",
    "print(p)\n",
    "p = p[::-1]\n",
    "p"
   ]
  },
  {
   "cell_type": "code",
   "execution_count": 19,
   "id": "f2311a39",
   "metadata": {},
   "outputs": [
    {
     "data": {
      "text/plain": [
       "'timiL'"
      ]
     },
     "execution_count": 19,
     "metadata": {},
     "output_type": "execute_result"
    }
   ],
   "source": [
    "w = 'Limit'\n",
    "w[::-1]"
   ]
  },
  {
   "cell_type": "markdown",
   "id": "83dafaee",
   "metadata": {},
   "source": [
    "- __Factorial of the number given.__"
   ]
  },
  {
   "cell_type": "code",
   "execution_count": 20,
   "id": "5719d8e0",
   "metadata": {},
   "outputs": [],
   "source": [
    "def factorial(number):\n",
    "    a = 1\n",
    "    for i in range(2,number+1):\n",
    "        a = a*i\n",
    "    return a    "
   ]
  },
  {
   "cell_type": "code",
   "execution_count": 21,
   "id": "b5eb63ea",
   "metadata": {},
   "outputs": [
    {
     "data": {
      "text/plain": [
       "6227020800"
      ]
     },
     "execution_count": 21,
     "metadata": {},
     "output_type": "execute_result"
    }
   ],
   "source": [
    "factorial(13)"
   ]
  },
  {
   "cell_type": "code",
   "execution_count": 46,
   "id": "5f5806ff",
   "metadata": {},
   "outputs": [],
   "source": [
    "import math\n"
   ]
  },
  {
   "cell_type": "code",
   "execution_count": 61,
   "id": "5d409399",
   "metadata": {},
   "outputs": [
    {
     "name": "stdout",
     "output_type": "stream",
     "text": [
      "[132, 4]\n"
     ]
    }
   ],
   "source": [
    "def lcm_gcf(a,b):\n",
    "    arr = [0]*2\n",
    "    \n",
    "    g = math.gcd(a,b)\n",
    "    l = (a*b)//g\n",
    "    \n",
    "    arr[0],arr[1] = l,g\n",
    "    \n",
    "    return arr\n",
    "\n",
    "print(lcm_gcf(12,44))"
   ]
  },
  {
   "cell_type": "code",
   "execution_count": 56,
   "id": "07477b4c",
   "metadata": {},
   "outputs": [
    {
     "data": {
      "text/plain": [
       "[0, 0]"
      ]
     },
     "execution_count": 56,
     "metadata": {},
     "output_type": "execute_result"
    }
   ],
   "source": [
    "lcm_gcf(12,24)"
   ]
  },
  {
   "cell_type": "code",
   "execution_count": 57,
   "id": "eb63f724",
   "metadata": {},
   "outputs": [
    {
     "name": "stdout",
     "output_type": "stream",
     "text": [
      "[108, 3]\n"
     ]
    }
   ],
   "source": [
    "import math\n",
    "\n",
    "def lcmandGcd(A, B):\n",
    "    arr = [0]*2\n",
    "\n",
    "    g = math.gcd(A,B)\n",
    "    l = (A*B)//g\n",
    "\n",
    "    arr[0], arr[1] =l,g\n",
    "\n",
    "    return arr\n",
    "\n",
    "print(lcmandGcd(A=12, B=27))"
   ]
  },
  {
   "cell_type": "code",
   "execution_count": null,
   "id": "78331907",
   "metadata": {},
   "outputs": [],
   "source": [
    "1,2"
   ]
  },
  {
   "cell_type": "code",
   "execution_count": null,
   "id": "a5d625b7",
   "metadata": {},
   "outputs": [],
   "source": [
    "#"
   ]
  }
 ],
 "metadata": {
  "kernelspec": {
   "display_name": "Python 3 (ipykernel)",
   "language": "python",
   "name": "python3"
  },
  "language_info": {
   "codemirror_mode": {
    "name": "ipython",
    "version": 3
   },
   "file_extension": ".py",
   "mimetype": "text/x-python",
   "name": "python",
   "nbconvert_exporter": "python",
   "pygments_lexer": "ipython3",
   "version": "3.10.4"
  }
 },
 "nbformat": 4,
 "nbformat_minor": 5
}
