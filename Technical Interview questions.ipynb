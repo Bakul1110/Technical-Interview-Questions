{
 "cells": [
  {
   "cell_type": "code",
   "execution_count": 1,
   "id": "8fe4a2e6",
   "metadata": {},
   "outputs": [
    {
     "name": "stdout",
     "output_type": "stream",
     "text": [
      "yes\n",
      "4\n",
      "Good Fit!\n"
     ]
    }
   ],
   "source": [
    "Masters = str(input())\n",
    "Experience = int(input())\n",
    "\n",
    "if Masters == \"yes\":\n",
    "    if Experience >=2:\n",
    "        print(\"Good Fit!\")\n",
    "    else:\n",
    "        print(\"Not a Good Fit!\")\n",
    "else:\n",
    "    print(\"Not suitable!\")\n"
   ]
  },
  {
   "cell_type": "markdown",
   "id": "7feb8c74",
   "metadata": {},
   "source": [
    "- __Given the first two term a1 and a2 of an ap series. Find the nth term of the series.__"
   ]
  },
  {
   "cell_type": "code",
   "execution_count": 2,
   "id": "fe571cc3",
   "metadata": {},
   "outputs": [],
   "source": [
    "def seriesap(a1,a2,N):\n",
    "    difference = a2-a1\n",
    "    nterm = a1+(N-1)*difference\n",
    "    return nterm\n",
    "    \n",
    "    "
   ]
  },
  {
   "cell_type": "code",
   "execution_count": 3,
   "id": "4efd6d78",
   "metadata": {},
   "outputs": [
    {
     "data": {
      "text/plain": [
       "12"
      ]
     },
     "execution_count": 3,
     "metadata": {},
     "output_type": "execute_result"
    }
   ],
   "source": [
    "seriesap(2,4,6)"
   ]
  },
  {
   "cell_type": "code",
   "execution_count": 4,
   "id": "7be98bdf",
   "metadata": {},
   "outputs": [
    {
     "data": {
      "text/plain": [
       "172"
      ]
     },
     "execution_count": 4,
     "metadata": {},
     "output_type": "execute_result"
    }
   ],
   "source": [
    "seriesap(12,44,6)"
   ]
  },
  {
   "cell_type": "markdown",
   "id": "734adf16",
   "metadata": {},
   "source": [
    "- __Check if the sum of digits is palindrome or not. example: 121,333,424 etc. are palindromes.__"
   ]
  },
  {
   "cell_type": "code",
   "execution_count": 5,
   "id": "aeb7a550",
   "metadata": {},
   "outputs": [],
   "source": [
    "def palindrome(num):\n",
    "   \n",
    "    newNum = 0\n",
    "    while(num>0):\n",
    "        newNum = newNum+ num%10\n",
    "        num//= 10\n",
    "    return newNum\n",
    "    revnewNum = 0\n",
    "    while(num>0):\n",
    "        revnewNum+= revnewnum*10+ num%10\n",
    "        num//10\n",
    "    return 1 if revnewNum == newNum else 0\n",
    "     \n",
    "    \n",
    "        \n",
    "    "
   ]
  },
  {
   "cell_type": "code",
   "execution_count": 6,
   "id": "372fa633",
   "metadata": {},
   "outputs": [
    {
     "data": {
      "text/plain": [
       "4"
      ]
     },
     "execution_count": 6,
     "metadata": {},
     "output_type": "execute_result"
    }
   ],
   "source": [
    "palindrome(121)"
   ]
  },
  {
   "cell_type": "code",
   "execution_count": null,
   "id": "8680e7e1",
   "metadata": {},
   "outputs": [],
   "source": []
  },
  {
   "cell_type": "code",
   "execution_count": 1,
   "id": "169fd54e",
   "metadata": {},
   "outputs": [],
   "source": [
    "def isPalindrome(N):\n",
    "    newNum = 0\n",
    "    while(N>0):\n",
    "        newNum+=N%10\n",
    "        N//=10\n",
    "    revNewNum=0\n",
    "    N=newNum\n",
    "    while(N>0):\n",
    "        revNewNum=revNewNum*10+N%10\n",
    "        N//=10\n",
    "    return 1 if revNewNum==newNum else 0\n"
   ]
  },
  {
   "cell_type": "code",
   "execution_count": null,
   "id": "b24b065b",
   "metadata": {},
   "outputs": [],
   "source": []
  },
  {
   "cell_type": "code",
   "execution_count": 2,
   "id": "5f0e73b3",
   "metadata": {},
   "outputs": [
    {
     "name": "stdout",
     "output_type": "stream",
     "text": [
      "1\n"
     ]
    }
   ],
   "source": [
    "print(isPalindrome(N=9292))\n"
   ]
  },
  {
   "cell_type": "markdown",
   "id": "3e618523",
   "metadata": {},
   "source": []
  },
  {
   "cell_type": "code",
   "execution_count": 9,
   "id": "a1786138",
   "metadata": {},
   "outputs": [],
   "source": [
    "def palindrome(n):\n",
    "    newNum = 0\n",
    "    while(n>0):\n",
    "        newNum+= n%10\n",
    "        n//=10\n",
    "    n = newNum\n",
    "    revnewnum = 0    \n",
    "    while(n>0):\n",
    "        revnewnum = revnewnum*10 + n%10\n",
    "        n//=10\n",
    "    return 1 if revnewnum == newNum else 0\n",
    "\n",
    "        \n",
    "        \n",
    "    "
   ]
  },
  {
   "cell_type": "code",
   "execution_count": 10,
   "id": "aed29132",
   "metadata": {},
   "outputs": [
    {
     "data": {
      "text/plain": [
       "0"
      ]
     },
     "execution_count": 10,
     "metadata": {},
     "output_type": "execute_result"
    }
   ],
   "source": [
    "palindrome(23443)"
   ]
  },
  {
   "cell_type": "markdown",
   "id": "cf6e2ccb",
   "metadata": {},
   "source": [
    "- __Find the kth digit from the right of  a ^ b that is a to the power b.__"
   ]
  },
  {
   "cell_type": "code",
   "execution_count": 11,
   "id": "5ae6c18f",
   "metadata": {},
   "outputs": [],
   "source": [
    "def find_kth(n1,n2,k):\n",
    "    x = pow(n1,n2)\n",
    "    temp = 0\n",
    "    while(k>0):\n",
    "        temp = x%10\n",
    "        x = x//10\n",
    "        k-=1\n",
    "    return temp    \n",
    "    \n",
    "    \n",
    "    \n",
    "#Got it!\n",
    "    "
   ]
  },
  {
   "cell_type": "code",
   "execution_count": 12,
   "id": "e8ecc02d",
   "metadata": {},
   "outputs": [
    {
     "data": {
      "text/plain": [
       "5"
      ]
     },
     "execution_count": 12,
     "metadata": {},
     "output_type": "execute_result"
    }
   ],
   "source": [
    "find_kth(2,8,2)"
   ]
  },
  {
   "cell_type": "code",
   "execution_count": 13,
   "id": "3143b16f",
   "metadata": {},
   "outputs": [
    {
     "data": {
      "text/plain": [
       "32531893445129332611554645425981044974375991037324055622153329695632580166211412428357143"
      ]
     },
     "execution_count": 13,
     "metadata": {},
     "output_type": "execute_result"
    }
   ],
   "source": [
    "23**65"
   ]
  },
  {
   "cell_type": "markdown",
   "id": "1bdf8dd1",
   "metadata": {},
   "source": [
    "def isprime(n):\n",
    "    if (n==1):\n",
    "        return 0\n",
    "    num = 2\n",
    "    while (num*num<=n):\n",
    "        if (n%num == 0):\n",
    "            return 0\n",
    "        num+=1\n",
    "    return 1      "
   ]
  },
  {
   "cell_type": "code",
   "execution_count": 14,
   "id": "eea0540a",
   "metadata": {},
   "outputs": [],
   "source": [
    "def isprime(N):\n",
    "    if (N==0):\n",
    "        return 0\n",
    "    num = 2\n",
    "    while(num*num<=N):\n",
    "        if (N%num == 0):\n",
    "            return 0\n",
    "        num+=1\n",
    "        return 1"
   ]
  },
  {
   "cell_type": "code",
   "execution_count": null,
   "id": "91de7b20",
   "metadata": {},
   "outputs": [],
   "source": []
  },
  {
   "cell_type": "code",
   "execution_count": 15,
   "id": "180932d2",
   "metadata": {},
   "outputs": [
    {
     "data": {
      "text/plain": [
       "1"
      ]
     },
     "execution_count": 15,
     "metadata": {},
     "output_type": "execute_result"
    }
   ],
   "source": [
    "isprime(17)"
   ]
  },
  {
   "cell_type": "code",
   "execution_count": 16,
   "id": "58da64e6",
   "metadata": {},
   "outputs": [],
   "source": [
    "def isprime(n = range(1,101)):  #give range in the function\n",
    "    if (n == 1):\n",
    "        return 0\n",
    "    num = 2\n",
    "    while(num>=0):\n",
    "        if (n%num == 0):\n",
    "            return 0\n",
    "        num-=1\n",
    "        return 1"
   ]
  },
  {
   "cell_type": "code",
   "execution_count": 17,
   "id": "d06e88de",
   "metadata": {},
   "outputs": [
    {
     "data": {
      "text/plain": [
       "1"
      ]
     },
     "execution_count": 17,
     "metadata": {},
     "output_type": "execute_result"
    }
   ],
   "source": [
    "isprime(111)"
   ]
  },
  {
   "cell_type": "code",
   "execution_count": 18,
   "id": "28f9890b",
   "metadata": {},
   "outputs": [
    {
     "data": {
      "text/plain": [
       "0"
      ]
     },
     "execution_count": 18,
     "metadata": {},
     "output_type": "execute_result"
    }
   ],
   "source": [
    "isprime(98)"
   ]
  },
  {
   "cell_type": "code",
   "execution_count": 19,
   "id": "26c7544c",
   "metadata": {},
   "outputs": [],
   "source": [
    "def isprime(n = range(1,101)):\n",
    "    if (n==0):\n",
    "        return 0\n",
    "    else:\n",
    "        num = 2\n",
    "        while(num*num<=n):\n",
    "            if (n%num == 0):\n",
    "                return 0\n",
    "            num+=1\n",
    "            return 1"
   ]
  },
  {
   "cell_type": "code",
   "execution_count": 20,
   "id": "e02af313",
   "metadata": {
    "scrolled": true
   },
   "outputs": [
    {
     "name": "stdout",
     "output_type": "stream",
     "text": [
      "0\n",
      "1\n",
      "1\n",
      "0\n",
      "1\n",
      "1\n",
      "0\n",
      "1\n",
      "1\n",
      "0\n",
      "1\n",
      "0\n",
      "1\n",
      "1\n",
      "1\n",
      "1\n",
      "0\n",
      "1\n",
      "0\n",
      "1\n",
      "1\n",
      "1\n",
      "0\n",
      "1\n",
      "1\n",
      "1\n",
      "0\n",
      "1\n",
      "0\n",
      "1\n",
      "1\n",
      "0\n",
      "1\n",
      "1\n",
      "1\n",
      "1\n",
      "0\n",
      "1\n",
      "0\n",
      "1\n",
      "1\n",
      "1\n",
      "1\n",
      "1\n",
      "0\n",
      "1\n",
      "1\n",
      "0\n",
      "1\n",
      "1\n",
      "0\n",
      "1\n",
      "1\n",
      "0\n",
      "1\n",
      "1\n",
      "1\n",
      "1\n",
      "1\n",
      "1\n",
      "0\n",
      "1\n",
      "0\n",
      "1\n",
      "0\n",
      "1\n",
      "1\n",
      "1\n",
      "1\n",
      "0\n",
      "1\n",
      "0\n",
      "1\n",
      "1\n",
      "1\n",
      "1\n",
      "1\n",
      "0\n",
      "1\n",
      "1\n",
      "1\n",
      "0\n",
      "1\n",
      "1\n",
      "0\n",
      "1\n",
      "1\n",
      "1\n",
      "1\n",
      "1\n",
      "1\n",
      "0\n",
      "1\n",
      "0\n",
      "1\n",
      "1\n",
      "0\n",
      "1\n",
      "1\n",
      "1\n",
      "1\n",
      "1\n",
      "0\n",
      "1\n",
      "1\n",
      "0\n",
      "1\n",
      "1\n",
      "1\n",
      "0\n",
      "1\n",
      "1\n",
      "1\n",
      "0\n",
      "1\n",
      "1\n",
      "1\n",
      "1\n",
      "1\n",
      "1\n",
      "1\n",
      "0\n",
      "1\n",
      "0\n",
      "1\n",
      "0\n",
      "1\n",
      "0\n",
      "1\n",
      "1\n",
      "0\n",
      "1\n",
      "1\n",
      "1\n",
      "1\n",
      "1\n",
      "1\n",
      "0\n",
      "1\n",
      "1\n",
      "1\n",
      "1\n",
      "1\n",
      "1\n",
      "0\n",
      "1\n",
      "1\n",
      "1\n",
      "1\n",
      "0\n",
      "1\n",
      "1\n",
      "0\n",
      "1\n",
      "0\n",
      "1\n",
      "1\n",
      "1\n",
      "1\n",
      "1\n",
      "1\n",
      "1\n",
      "0\n",
      "1\n",
      "0\n",
      "1\n",
      "1\n",
      "1\n",
      "0\n",
      "1\n",
      "1\n",
      "1\n",
      "1\n",
      "1\n",
      "1\n",
      "0\n",
      "1\n",
      "1\n",
      "0\n",
      "1\n",
      "1\n",
      "1\n",
      "1\n",
      "0\n",
      "1\n",
      "1\n",
      "0\n",
      "1\n",
      "1\n",
      "0\n",
      "1\n",
      "1\n",
      "1\n",
      "1\n",
      "1\n",
      "1\n",
      "1\n",
      "1\n",
      "1\n",
      "1\n",
      "0\n",
      "1\n",
      "0\n",
      "1\n",
      "0\n",
      "1\n",
      "1\n",
      "0\n",
      "1\n",
      "1\n",
      "1\n",
      "1\n",
      "1\n",
      "1\n",
      "0\n",
      "1\n",
      "0\n",
      "1\n",
      "1\n",
      "1\n",
      "0\n",
      "1\n",
      "1\n",
      "1\n",
      "1\n",
      "0\n",
      "1\n",
      "1\n",
      "1\n",
      "1\n",
      "1\n",
      "0\n",
      "1\n",
      "1\n",
      "0\n",
      "1\n",
      "1\n",
      "1\n",
      "1\n",
      "1\n",
      "1\n",
      "1\n",
      "1\n",
      "1\n",
      "1\n",
      "0\n",
      "1\n",
      "0\n",
      "1\n",
      "1\n",
      "1\n",
      "0\n",
      "1\n",
      "1\n",
      "1\n",
      "1\n",
      "1\n",
      "0\n",
      "1\n",
      "1\n",
      "1\n",
      "0\n",
      "1\n",
      "1\n",
      "0\n",
      "1\n",
      "1\n",
      "1\n",
      "0\n",
      "1\n",
      "1\n",
      "0\n",
      "1\n",
      "1\n",
      "1\n",
      "1\n",
      "1\n",
      "0\n",
      "1\n",
      "1\n",
      "1\n",
      "1\n",
      "1\n",
      "1\n",
      "1\n",
      "1\n",
      "1\n",
      "1\n",
      "1\n",
      "1\n",
      "0\n",
      "1\n",
      "0\n",
      "1\n",
      "0\n",
      "1\n",
      "0\n",
      "1\n",
      "0\n",
      "1\n",
      "1\n",
      "1\n",
      "1\n",
      "1\n",
      "1\n",
      "1\n",
      "1\n",
      "0\n",
      "1\n",
      "1\n",
      "1\n",
      "1\n",
      "1\n",
      "1\n",
      "1\n",
      "0\n",
      "1\n",
      "1\n",
      "1\n",
      "1\n",
      "0\n",
      "1\n",
      "0\n",
      "1\n",
      "1\n",
      "0\n",
      "1\n",
      "1\n",
      "1\n",
      "1\n",
      "0\n",
      "1\n",
      "1\n",
      "1\n",
      "1\n",
      "0\n",
      "1\n",
      "1\n",
      "1\n",
      "1\n",
      "0\n",
      "1\n",
      "0\n",
      "1\n",
      "1\n",
      "1\n",
      "0\n",
      "1\n",
      "1\n",
      "1\n",
      "1\n",
      "1\n",
      "1\n",
      "1\n",
      "1\n",
      "1\n",
      "1\n",
      "0\n",
      "1\n",
      "1\n",
      "0\n",
      "1\n",
      "1\n",
      "1\n",
      "1\n",
      "1\n",
      "1\n",
      "0\n",
      "1\n",
      "1\n",
      "1\n",
      "1\n",
      "1\n",
      "1\n",
      "0\n",
      "1\n",
      "1\n",
      "1\n",
      "0\n",
      "1\n",
      "1\n",
      "0\n",
      "1\n",
      "1\n",
      "1\n",
      "1\n",
      "1\n",
      "1\n",
      "1\n",
      "1\n",
      "1\n",
      "0\n",
      "1\n",
      "0\n",
      "1\n",
      "0\n",
      "1\n",
      "1\n",
      "0\n",
      "1\n",
      "1\n",
      "0\n",
      "1\n",
      "1\n",
      "1\n",
      "1\n",
      "1\n",
      "1\n",
      "1\n",
      "1\n",
      "0\n",
      "1\n",
      "1\n",
      "1\n",
      "1\n",
      "1\n",
      "1\n",
      "1\n",
      "1\n",
      "0\n",
      "1\n",
      "1\n",
      "0\n",
      "1\n",
      "1\n",
      "1\n",
      "1\n",
      "0\n",
      "1\n",
      "1\n",
      "0\n",
      "1\n",
      "1\n",
      "1\n",
      "1\n",
      "1\n",
      "1\n",
      "1\n",
      "1\n",
      "1\n",
      "1\n",
      "0\n",
      "1\n",
      "1\n",
      "0\n",
      "1\n",
      "0\n",
      "1\n",
      "1\n",
      "1\n",
      "0\n",
      "1\n",
      "1\n",
      "1\n",
      "1\n",
      "1\n",
      "1\n",
      "1\n",
      "1\n",
      "1\n",
      "1\n",
      "0\n",
      "1\n",
      "1\n",
      "0\n",
      "1\n",
      "0\n",
      "1\n",
      "1\n",
      "1\n",
      "0\n",
      "1\n",
      "1\n",
      "0\n",
      "1\n",
      "1\n",
      "1\n",
      "1\n",
      "1\n",
      "1\n",
      "0\n",
      "1\n",
      "0\n",
      "1\n",
      "1\n",
      "1\n",
      "1\n",
      "1\n",
      "1\n",
      "1\n",
      "1\n",
      "1\n",
      "1\n",
      "1\n",
      "1\n",
      "1\n",
      "1\n",
      "1\n",
      "1\n",
      "0\n",
      "1\n",
      "0\n",
      "1\n",
      "0\n",
      "1\n",
      "1\n",
      "0\n",
      "1\n",
      "0\n",
      "1\n",
      "1\n",
      "1\n",
      "1\n",
      "1\n",
      "1\n",
      "0\n",
      "1\n",
      "1\n",
      "1\n",
      "1\n",
      "1\n",
      "0\n",
      "1\n",
      "1\n",
      "1\n",
      "1\n",
      "1\n",
      "1\n",
      "1\n",
      "1\n",
      "1\n",
      "0\n",
      "1\n",
      "1\n",
      "1\n",
      "1\n",
      "1\n",
      "1\n",
      "1\n",
      "0\n",
      "1\n",
      "1\n",
      "0\n",
      "1\n",
      "1\n",
      "1\n",
      "1\n",
      "0\n",
      "1\n",
      "1\n",
      "1\n",
      "1\n",
      "1\n",
      "1\n",
      "1\n",
      "1\n",
      "1\n",
      "1\n",
      "0\n",
      "1\n",
      "0\n",
      "1\n",
      "1\n",
      "0\n",
      "1\n",
      "0\n",
      "1\n",
      "1\n",
      "1\n",
      "0\n",
      "1\n",
      "1\n",
      "1\n",
      "1\n",
      "1\n",
      "1\n",
      "0\n",
      "1\n",
      "1\n",
      "1\n",
      "0\n",
      "1\n",
      "1\n",
      "0\n",
      "1\n",
      "1\n",
      "1\n",
      "1\n",
      "1\n",
      "1\n",
      "1\n",
      "0\n",
      "1\n",
      "1\n",
      "1\n",
      "1\n",
      "1\n",
      "1\n",
      "1\n",
      "0\n",
      "1\n",
      "1\n",
      "1\n",
      "1\n",
      "1\n",
      "1\n",
      "1\n",
      "1\n",
      "1\n",
      "1\n",
      "1\n",
      "0\n",
      "1\n",
      "1\n",
      "1\n",
      "1\n",
      "1\n",
      "0\n",
      "1\n",
      "0\n",
      "1\n",
      "0\n",
      "1\n",
      "1\n",
      "0\n",
      "1\n",
      "1\n",
      "0\n",
      "1\n",
      "1\n",
      "1\n",
      "1\n",
      "1\n",
      "1\n",
      "1\n",
      "1\n",
      "1\n",
      "1\n",
      "0\n",
      "1\n",
      "1\n",
      "1\n",
      "1\n",
      "1\n",
      "0\n",
      "1\n",
      "1\n",
      "1\n",
      "1\n",
      "0\n",
      "1\n",
      "1\n",
      "1\n",
      "1\n",
      "1\n",
      "1\n",
      "0\n",
      "1\n",
      "0\n",
      "1\n",
      "1\n",
      "0\n",
      "1\n",
      "0\n",
      "1\n",
      "1\n",
      "1\n",
      "1\n",
      "1\n",
      "0\n",
      "1\n"
     ]
    }
   ],
   "source": [
    "for n in range(1,101):\n",
    "    if (n==0):\n",
    "        print(0)\n",
    "    else:\n",
    "        num = 2\n",
    "        while(num*num<=n):\n",
    "            if (n%num == 0):\n",
    "                print(0)\n",
    "            num+=1\n",
    "            print(1)"
   ]
  },
  {
   "cell_type": "code",
   "execution_count": 21,
   "id": "1a9e06d6",
   "metadata": {},
   "outputs": [
    {
     "data": {
      "text/plain": [
       "1"
      ]
     },
     "execution_count": 21,
     "metadata": {},
     "output_type": "execute_result"
    }
   ],
   "source": [
    "isprime(101)"
   ]
  },
  {
   "cell_type": "code",
   "execution_count": 22,
   "id": "174df2e2",
   "metadata": {},
   "outputs": [
    {
     "data": {
      "text/plain": [
       "1"
      ]
     },
     "execution_count": 22,
     "metadata": {},
     "output_type": "execute_result"
    }
   ],
   "source": [
    "isprime(211)"
   ]
  },
  {
   "cell_type": "code",
   "execution_count": 23,
   "id": "05b5e302",
   "metadata": {},
   "outputs": [],
   "source": [
    "def isprime(num):\n",
    "    if (num == 1):\n",
    "        return 0\n",
    "    n = 2\n",
    "    while(n*n <=num):\n",
    "        if(num%n ==0):\n",
    "            return 0\n",
    "        n+=1\n",
    "    return 1    "
   ]
  },
  {
   "cell_type": "code",
   "execution_count": 24,
   "id": "c81a49c6",
   "metadata": {},
   "outputs": [
    {
     "data": {
      "text/plain": [
       "1"
      ]
     },
     "execution_count": 24,
     "metadata": {},
     "output_type": "execute_result"
    }
   ],
   "source": [
    "isprime(17)"
   ]
  },
  {
   "cell_type": "code",
   "execution_count": 25,
   "id": "0ea6a7f3",
   "metadata": {},
   "outputs": [
    {
     "name": "stdout",
     "output_type": "stream",
     "text": [
      "The original string is : Geeksforgeeks\n",
      "The reversed string(using loops) is : skeegrofskeeG\n"
     ]
    }
   ],
   "source": [
    "def reverse(s):\n",
    "\tstr = \"\"\n",
    "\tfor i in s:\n",
    "\t\tstr = i + str\n",
    "\treturn str\n",
    "\n",
    "s = \"Geeksforgeeks\"\n",
    "\n",
    "print(\"The original string is : \", end=\"\")\n",
    "print(s)\n",
    "\n",
    "print(\"The reversed string(using loops) is : \", end=\"\")\n",
    "print(reverse(s))\n"
   ]
  },
  {
   "cell_type": "code",
   "execution_count": 26,
   "id": "3f5282f3",
   "metadata": {},
   "outputs": [
    {
     "name": "stdout",
     "output_type": "stream",
     "text": [
      "Bakul Verma\n"
     ]
    },
    {
     "data": {
      "text/plain": [
       "'amreV lukaB'"
      ]
     },
     "execution_count": 26,
     "metadata": {},
     "output_type": "execute_result"
    }
   ],
   "source": [
    "p= 'Bakul Verma'\n",
    "print(p)\n",
    "p = p[::-1]\n",
    "p"
   ]
  },
  {
   "cell_type": "code",
   "execution_count": 27,
   "id": "e132c89c",
   "metadata": {},
   "outputs": [
    {
     "data": {
      "text/plain": [
       "'alabakuM'"
      ]
     },
     "execution_count": 27,
     "metadata": {},
     "output_type": "execute_result"
    }
   ],
   "source": [
    "p = 'Mukabala'\n",
    "p1 = p[::-1]\n",
    "p1"
   ]
  },
  {
   "cell_type": "code",
   "execution_count": 28,
   "id": "f2311a39",
   "metadata": {},
   "outputs": [
    {
     "data": {
      "text/plain": [
       "'timiL'"
      ]
     },
     "execution_count": 28,
     "metadata": {},
     "output_type": "execute_result"
    }
   ],
   "source": [
    "w = 'Limit'\n",
    "w[::-1]"
   ]
  },
  {
   "cell_type": "markdown",
   "id": "83dafaee",
   "metadata": {},
   "source": [
    "- __Factorial of the number given.__"
   ]
  },
  {
   "cell_type": "code",
   "execution_count": 29,
   "id": "5719d8e0",
   "metadata": {},
   "outputs": [],
   "source": [
    "def factorial(number):\n",
    "    a = 1\n",
    "    for i in range(2,number+1):\n",
    "        a = a*i\n",
    "    return a    "
   ]
  },
  {
   "cell_type": "code",
   "execution_count": 30,
   "id": "604d42f3",
   "metadata": {},
   "outputs": [],
   "source": [
    "def factorial(num):\n",
    "    factorial = 1\n",
    "    for i in range(2,num+1):\n",
    "        factorial = factorial*i\n",
    "    return factorial"
   ]
  },
  {
   "cell_type": "code",
   "execution_count": 31,
   "id": "b5eb63ea",
   "metadata": {},
   "outputs": [
    {
     "data": {
      "text/plain": [
       "6227020800"
      ]
     },
     "execution_count": 31,
     "metadata": {},
     "output_type": "execute_result"
    }
   ],
   "source": [
    "factorial(13)"
   ]
  },
  {
   "cell_type": "code",
   "execution_count": 32,
   "id": "5f5806ff",
   "metadata": {},
   "outputs": [],
   "source": [
    "import math\n"
   ]
  },
  {
   "cell_type": "code",
   "execution_count": 33,
   "id": "6dce427b",
   "metadata": {},
   "outputs": [
    {
     "name": "stdout",
     "output_type": "stream",
     "text": [
      "[132, 4]\n"
     ]
    }
   ],
   "source": [
    "def lcm_gcf(a,b):\n",
    "    arr = [0]*2\n",
    "    \n",
    "    g = math.gcd(a,b)\n",
    "    l = (a*b)//g\n",
    "    \n",
    "    arr[0],arr[1] = l,g\n",
    "    \n",
    "    return arr\n",
    "\n",
    "print(lcm_gcf(12,44))"
   ]
  },
  {
   "cell_type": "code",
   "execution_count": 34,
   "id": "c6e2fb9c",
   "metadata": {},
   "outputs": [
    {
     "data": {
      "text/plain": [
       "[24, 12]"
      ]
     },
     "execution_count": 34,
     "metadata": {},
     "output_type": "execute_result"
    }
   ],
   "source": [
    "lcm_gcf(12,24)"
   ]
  },
  {
   "cell_type": "code",
   "execution_count": 35,
   "id": "77b78a64",
   "metadata": {},
   "outputs": [
    {
     "name": "stdout",
     "output_type": "stream",
     "text": [
      "[108, 3]\n"
     ]
    }
   ],
   "source": [
    "import math\n",
    "\n",
    "def lcmandGcd(A, B):\n",
    "    arr = [0]*2\n",
    "\n",
    "    g = math.gcd(A,B)\n",
    "    l = (A*B)//g\n",
    "\n",
    "    arr[0], arr[1] =l,g\n",
    "\n",
    "    return arr\n",
    "\n",
    "print(lcmandGcd(A=12, B=27))"
   ]
  },
  {
   "cell_type": "code",
   "execution_count": 36,
   "id": "a21407c5",
   "metadata": {},
   "outputs": [
    {
     "data": {
      "text/plain": [
       "[180, 3]"
      ]
     },
     "execution_count": 36,
     "metadata": {},
     "output_type": "execute_result"
    }
   ],
   "source": [
    "def lcmgcd(a,b):\n",
    "    arr = [0]*2\n",
    "    g = math.gcd(a,b)\n",
    "    l = (a*b)//g\n",
    "    arr[0],arr[1] = l,g\n",
    "    return arr\n",
    "lcmgcd(12,45)"
   ]
  },
  {
   "cell_type": "markdown",
   "id": "06055837",
   "metadata": {},
   "source": [
    "- __Write a function to find out the largest prime factor of the number given.__"
   ]
  },
  {
   "cell_type": "code",
   "execution_count": 37,
   "id": "17740b75",
   "metadata": {},
   "outputs": [],
   "source": [
    "def largest_prime_factor(number):\n",
    "    num = 2\n",
    "    while((num*num)<=number):\n",
    "        if number%num == 0:\n",
    "            number = number//num\n",
    "        else:\n",
    "            num+=1\n",
    "    return int(number)\n",
    "\n",
    "        \n",
    "        \n",
    "        "
   ]
  },
  {
   "cell_type": "code",
   "execution_count": 38,
   "id": "83d57e70",
   "metadata": {},
   "outputs": [],
   "source": [
    "def largest_prime_factor(num):\n",
    "    n = 2\n",
    "    while(n*n) <= num:\n",
    "        if num%n == 0:\n",
    "            num//=n\n",
    "        else:\n",
    "            num+=1\n",
    "        return num    \n",
    "        "
   ]
  },
  {
   "cell_type": "code",
   "execution_count": 39,
   "id": "69609dea",
   "metadata": {},
   "outputs": [
    {
     "data": {
      "text/plain": [
       "24"
      ]
     },
     "execution_count": 39,
     "metadata": {},
     "output_type": "execute_result"
    }
   ],
   "source": [
    "largest_prime_factor(23)"
   ]
  },
  {
   "cell_type": "code",
   "execution_count": 40,
   "id": "e5fad0ad",
   "metadata": {},
   "outputs": [
    {
     "name": "stdout",
     "output_type": "stream",
     "text": [
      "3\n"
     ]
    }
   ],
   "source": [
    "# Given a number N, the task is to find the largest prime factor of that number.\n",
    "\n",
    "# Input:\n",
    "# N = 5\n",
    "# Output:\n",
    "# 5\n",
    "# Explanation:\n",
    "# 5 has 1 prime factor\n",
    "# i.e 5 only.\n",
    "\n",
    "# Input:\n",
    "# N = 24\n",
    "# Output:\n",
    "# 3\n",
    "\n",
    "\n",
    "\n",
    "def largPrimeNumber(N):\n",
    "    num = 2\n",
    "\n",
    "    while (num * num) <= N:\n",
    "        if N % num == 0:  # num is equal to N or devides N evenly\n",
    "            N = N//num\n",
    "        else:\n",
    "            num += 1\n",
    "    return int(N)\n",
    "\n",
    "\n",
    "print(largPrimeNumber(24)) #prime number which is a factor too\n"
   ]
  },
  {
   "cell_type": "code",
   "execution_count": 41,
   "id": "85d9ac4d",
   "metadata": {},
   "outputs": [
    {
     "data": {
      "text/html": [
       "<div>\n",
       "<style scoped>\n",
       "    .dataframe tbody tr th:only-of-type {\n",
       "        vertical-align: middle;\n",
       "    }\n",
       "\n",
       "    .dataframe tbody tr th {\n",
       "        vertical-align: top;\n",
       "    }\n",
       "\n",
       "    .dataframe thead th {\n",
       "        text-align: right;\n",
       "    }\n",
       "</style>\n",
       "<table border=\"1\" class=\"dataframe\">\n",
       "  <thead>\n",
       "    <tr style=\"text-align: right;\">\n",
       "      <th></th>\n",
       "      <th>Y</th>\n",
       "    </tr>\n",
       "    <tr>\n",
       "      <th>X</th>\n",
       "      <th></th>\n",
       "    </tr>\n",
       "  </thead>\n",
       "  <tbody>\n",
       "    <tr>\n",
       "      <th>A</th>\n",
       "      <td>7</td>\n",
       "    </tr>\n",
       "    <tr>\n",
       "      <th>B</th>\n",
       "      <td>3</td>\n",
       "    </tr>\n",
       "  </tbody>\n",
       "</table>\n",
       "</div>"
      ],
      "text/plain": [
       "   Y\n",
       "X   \n",
       "A  7\n",
       "B  3"
      ]
     },
     "execution_count": 41,
     "metadata": {},
     "output_type": "execute_result"
    }
   ],
   "source": [
    "import pandas as pd\n",
    "df2 = pd.DataFrame({'X':['B','B','A','A'], 'Y': [1,2,3,4]})\n",
    "df2.groupby(['X']).sum()"
   ]
  },
  {
   "cell_type": "code",
   "execution_count": 42,
   "id": "b590adca",
   "metadata": {},
   "outputs": [
    {
     "data": {
      "text/html": [
       "<div>\n",
       "<style scoped>\n",
       "    .dataframe tbody tr th:only-of-type {\n",
       "        vertical-align: middle;\n",
       "    }\n",
       "\n",
       "    .dataframe tbody tr th {\n",
       "        vertical-align: top;\n",
       "    }\n",
       "\n",
       "    .dataframe thead tr th {\n",
       "        text-align: left;\n",
       "    }\n",
       "\n",
       "    .dataframe thead tr:last-of-type th {\n",
       "        text-align: right;\n",
       "    }\n",
       "</style>\n",
       "<table border=\"1\" class=\"dataframe\">\n",
       "  <thead>\n",
       "    <tr>\n",
       "      <th></th>\n",
       "      <th colspan=\"3\" halign=\"left\">Y</th>\n",
       "    </tr>\n",
       "    <tr>\n",
       "      <th></th>\n",
       "      <th>sum</th>\n",
       "      <th>mean</th>\n",
       "      <th>std</th>\n",
       "    </tr>\n",
       "    <tr>\n",
       "      <th>X</th>\n",
       "      <th></th>\n",
       "      <th></th>\n",
       "      <th></th>\n",
       "    </tr>\n",
       "  </thead>\n",
       "  <tbody>\n",
       "    <tr>\n",
       "      <th>A</th>\n",
       "      <td>7</td>\n",
       "      <td>3.5</td>\n",
       "      <td>0.707107</td>\n",
       "    </tr>\n",
       "    <tr>\n",
       "      <th>B</th>\n",
       "      <td>3</td>\n",
       "      <td>1.5</td>\n",
       "      <td>0.707107</td>\n",
       "    </tr>\n",
       "  </tbody>\n",
       "</table>\n",
       "</div>"
      ],
      "text/plain": [
       "    Y               \n",
       "  sum mean       std\n",
       "X                   \n",
       "A   7  3.5  0.707107\n",
       "B   3  1.5  0.707107"
      ]
     },
     "execution_count": 42,
     "metadata": {},
     "output_type": "execute_result"
    }
   ],
   "source": [
    "import numpy as np\n",
    "df3 = pd.DataFrame({'X':['B','B','A','A'], 'Y': [1,2,3,4]})\n",
    "df3.groupby(['X']).agg([np.sum, np.mean,np.std])"
   ]
  },
  {
   "cell_type": "code",
   "execution_count": 43,
   "id": "91f95e93",
   "metadata": {},
   "outputs": [
    {
     "data": {
      "text/plain": [
       "array([[1., 0., 0.],\n",
       "       [0., 1., 0.],\n",
       "       [0., 0., 1.]])"
      ]
     },
     "execution_count": 43,
     "metadata": {},
     "output_type": "execute_result"
    }
   ],
   "source": [
    "np.eye(3)"
   ]
  },
  {
   "cell_type": "code",
   "execution_count": 44,
   "id": "f9612ec9",
   "metadata": {},
   "outputs": [
    {
     "name": "stdout",
     "output_type": "stream",
     "text": [
      "(6,)\n"
     ]
    }
   ],
   "source": [
    "my_arr = np.array([1,2,3,4,5,6])\n",
    "print(my_arr.shape)"
   ]
  },
  {
   "cell_type": "code",
   "execution_count": 45,
   "id": "6ca2c1ae",
   "metadata": {},
   "outputs": [],
   "source": [
    "def func(x):\n",
    "    x[0] = 5\n",
    "    return x\n"
   ]
  },
  {
   "cell_type": "code",
   "execution_count": 46,
   "id": "dd1ee071",
   "metadata": {},
   "outputs": [
    {
     "data": {
      "text/plain": [
       "([5, 10, 34], [5, 10, 34])"
      ]
     },
     "execution_count": 46,
     "metadata": {},
     "output_type": "execute_result"
    }
   ],
   "source": [
    "g = [9,10,34]\n",
    "func(g),g"
   ]
  },
  {
   "cell_type": "code",
   "execution_count": 47,
   "id": "a720a1ce",
   "metadata": {},
   "outputs": [
    {
     "data": {
      "text/plain": [
       "False"
      ]
     },
     "execution_count": 47,
     "metadata": {},
     "output_type": "execute_result"
    }
   ],
   "source": [
    "not(5<10) and not(5>15)"
   ]
  },
  {
   "cell_type": "code",
   "execution_count": 48,
   "id": "cdfb5109",
   "metadata": {},
   "outputs": [],
   "source": [
    "l1 = list()\n",
    "l1.append(l1)"
   ]
  },
  {
   "cell_type": "code",
   "execution_count": 49,
   "id": "d48624fc",
   "metadata": {},
   "outputs": [],
   "source": [
    "a = [1,1,2,4,3,5]\n",
    "b = [4,6,7,8,9]\n",
    "a = a.extend(b)"
   ]
  },
  {
   "cell_type": "code",
   "execution_count": 50,
   "id": "b7891cca",
   "metadata": {},
   "outputs": [
    {
     "data": {
      "text/plain": [
       "(None, [4, 6, 7, 8, 9], None)"
      ]
     },
     "execution_count": 50,
     "metadata": {},
     "output_type": "execute_result"
    }
   ],
   "source": [
    "a,b,a"
   ]
  },
  {
   "cell_type": "code",
   "execution_count": 51,
   "id": "6041c11e",
   "metadata": {},
   "outputs": [],
   "source": [
    "# Create a stack using array. Use the class and functions like push() and pop() \n",
    "\n",
    "class mystack:\n",
    "    def __init__(self):\n",
    "        self.arr = []\n",
    "    \n",
    "    def push(self,data):\n",
    "        self.arr.append(data)\n",
    "        \n",
    "    def pop(self):\n",
    "        if len(self.arr) == 0:\n",
    "            return -1\n",
    "        return self.arr.pop()\n",
    "        "
   ]
  },
  {
   "cell_type": "code",
   "execution_count": 52,
   "id": "f49f64a7",
   "metadata": {},
   "outputs": [
    {
     "data": {
      "text/plain": [
       "2"
      ]
     },
     "execution_count": 52,
     "metadata": {},
     "output_type": "execute_result"
    }
   ],
   "source": [
    "\n",
    "s1 = mystack()\n",
    "s1.push(2)\n",
    "s1.pop()"
   ]
  },
  {
   "cell_type": "code",
   "execution_count": 53,
   "id": "b0b9c68c",
   "metadata": {},
   "outputs": [],
   "source": [
    "s1.push(23445)\n",
    "s1.push(7878)\n",
    "s1.push(45656)"
   ]
  },
  {
   "cell_type": "code",
   "execution_count": 54,
   "id": "b14a326e",
   "metadata": {},
   "outputs": [
    {
     "data": {
      "text/plain": [
       "45656"
      ]
     },
     "execution_count": 54,
     "metadata": {},
     "output_type": "execute_result"
    }
   ],
   "source": [
    "s1.pop()"
   ]
  },
  {
   "cell_type": "code",
   "execution_count": 55,
   "id": "5076ad3b",
   "metadata": {},
   "outputs": [
    {
     "data": {
      "text/plain": [
       "7878"
      ]
     },
     "execution_count": 55,
     "metadata": {},
     "output_type": "execute_result"
    }
   ],
   "source": [
    "s1.pop()"
   ]
  },
  {
   "cell_type": "code",
   "execution_count": 56,
   "id": "8565c5b9",
   "metadata": {},
   "outputs": [
    {
     "data": {
      "text/plain": [
       "23445"
      ]
     },
     "execution_count": 56,
     "metadata": {},
     "output_type": "execute_result"
    }
   ],
   "source": [
    "s1.pop()"
   ]
  },
  {
   "cell_type": "code",
   "execution_count": 57,
   "id": "f4162ba8",
   "metadata": {},
   "outputs": [
    {
     "data": {
      "text/plain": [
       "-1"
      ]
     },
     "execution_count": 57,
     "metadata": {},
     "output_type": "execute_result"
    }
   ],
   "source": [
    "s1.pop()"
   ]
  },
  {
   "cell_type": "code",
   "execution_count": 58,
   "id": "96bce27e",
   "metadata": {},
   "outputs": [
    {
     "data": {
      "text/plain": [
       "-1"
      ]
     },
     "execution_count": 58,
     "metadata": {},
     "output_type": "execute_result"
    }
   ],
   "source": [
    "s1.pop()"
   ]
  },
  {
   "cell_type": "code",
   "execution_count": 59,
   "id": "9e3258c6",
   "metadata": {},
   "outputs": [
    {
     "data": {
      "text/plain": [
       "-1"
      ]
     },
     "execution_count": 59,
     "metadata": {},
     "output_type": "execute_result"
    }
   ],
   "source": [
    "s1.pop()"
   ]
  },
  {
   "cell_type": "code",
   "execution_count": 60,
   "id": "f7434664",
   "metadata": {},
   "outputs": [],
   "source": [
    "# Count Squares\n",
    "import math\n",
    "def countsqr(N):\n",
    "    num_sqr = int(math.sqrt(N-1))\n",
    "    return num_sqr\n"
   ]
  },
  {
   "cell_type": "code",
   "execution_count": 61,
   "id": "3ee2b747",
   "metadata": {},
   "outputs": [
    {
     "data": {
      "text/plain": [
       "2"
      ]
     },
     "execution_count": 61,
     "metadata": {},
     "output_type": "execute_result"
    }
   ],
   "source": [
    "countsqr(8)"
   ]
  },
  {
   "cell_type": "code",
   "execution_count": 62,
   "id": "5f6abde7",
   "metadata": {},
   "outputs": [
    {
     "data": {
      "text/plain": [
       "2"
      ]
     },
     "execution_count": 62,
     "metadata": {},
     "output_type": "execute_result"
    }
   ],
   "source": [
    "n = 7\n",
    "int(math.sqrt(7-1))"
   ]
  },
  {
   "cell_type": "code",
   "execution_count": 63,
   "id": "9bc7749a",
   "metadata": {},
   "outputs": [
    {
     "data": {
      "text/plain": [
       "3"
      ]
     },
     "execution_count": 63,
     "metadata": {},
     "output_type": "execute_result"
    }
   ],
   "source": [
    "int(math.sqrt(14))"
   ]
  },
  {
   "cell_type": "markdown",
   "id": "49b3cb74",
   "metadata": {},
   "source": [
    "- __Fibonacci series (find the last two digits of the asked fibonacci number say- for the number at (Nth) 13th position)__"
   ]
  },
  {
   "cell_type": "code",
   "execution_count": 64,
   "id": "75f48669",
   "metadata": {},
   "outputs": [
    {
     "name": "stdout",
     "output_type": "stream",
     "text": [
      "40\n"
     ]
    }
   ],
   "source": [
    "def fibonaccidigits(N):\n",
    "    fib = [0]*300  #created an array of 300 having 300 zeroes\n",
    "    fib[0] = 0  #zeroth position of array is zero\n",
    "    fib[1] = 1  #first position of array is one\n",
    "    for i in range(2,min(299,N)+1):  #iterating over the elements of this array \n",
    "        fib[i] = (fib[i-1]+ fib[i-2])%100   #for each element dividing the sum of it's operands by 100\n",
    "    return fib[N%300]\n",
    "print(fibonaccidigits(30))\n",
    "    "
   ]
  },
  {
   "cell_type": "code",
   "execution_count": 65,
   "id": "94e8ecfb",
   "metadata": {},
   "outputs": [
    {
     "name": "stdout",
     "output_type": "stream",
     "text": [
      "40\n"
     ]
    }
   ],
   "source": [
    "def fibonacci(n):\n",
    "    fib = [0]*300\n",
    "    fib[0] = 0\n",
    "    fib[1] = 1\n",
    "    for i in range(2,min(299,n)+1):\n",
    "        fib[i] = (fib[i-1]+ fib[i-2])%100\n",
    "    return fib[n%300]\n",
    "print(fibonacci(30))\n",
    "    "
   ]
  },
  {
   "cell_type": "code",
   "execution_count": 66,
   "id": "134918f0",
   "metadata": {},
   "outputs": [
    {
     "name": "stdout",
     "output_type": "stream",
     "text": [
      "40\n"
     ]
    }
   ],
   "source": [
    "print(fibonacci(30))"
   ]
  },
  {
   "cell_type": "code",
   "execution_count": 67,
   "id": "7776c53c",
   "metadata": {},
   "outputs": [
    {
     "data": {
      "text/plain": [
       "5"
      ]
     },
     "execution_count": 67,
     "metadata": {},
     "output_type": "execute_result"
    }
   ],
   "source": [
    "min(299,6) -1\n"
   ]
  },
  {
   "cell_type": "code",
   "execution_count": 68,
   "id": "41784df3",
   "metadata": {},
   "outputs": [],
   "source": [
    "#[0]*300 = 300 times zero"
   ]
  },
  {
   "cell_type": "code",
   "execution_count": 69,
   "id": "927255bf",
   "metadata": {},
   "outputs": [],
   "source": [
    "def factorial(num):\n",
    "    factorial = 1\n",
    "    for i in range(2,num+1):\n",
    "        factorial = factorial*i\n",
    "    return factorial\n",
    "    "
   ]
  },
  {
   "cell_type": "code",
   "execution_count": 70,
   "id": "aef6c1f6",
   "metadata": {},
   "outputs": [
    {
     "data": {
      "text/plain": [
       "263130836933693530167218012160000000"
      ]
     },
     "execution_count": 70,
     "metadata": {},
     "output_type": "execute_result"
    }
   ],
   "source": [
    "factorial(32)"
   ]
  },
  {
   "cell_type": "code",
   "execution_count": 71,
   "id": "58ddc04d",
   "metadata": {},
   "outputs": [],
   "source": [
    "#check power\n",
    "\n",
    "def power(a,b):\n",
    "    if a ==1:\n",
    "        if b == 0:\n",
    "            return 1\n",
    "        else:\n",
    "            return 0\n",
    "    power = 1\n",
    "    while(power< b):\n",
    "        power = power*a\n",
    "    if power == b:\n",
    "        return 1\n",
    "    else:\n",
    "        return 0\n",
    "        \n",
    "\n",
    "\n",
    "        "
   ]
  },
  {
   "cell_type": "code",
   "execution_count": 72,
   "id": "c63655aa",
   "metadata": {},
   "outputs": [
    {
     "data": {
      "text/plain": [
       "0"
      ]
     },
     "execution_count": 72,
     "metadata": {},
     "output_type": "execute_result"
    }
   ],
   "source": [
    "power(3,21)"
   ]
  },
  {
   "cell_type": "code",
   "execution_count": 73,
   "id": "8bb9ed54",
   "metadata": {},
   "outputs": [
    {
     "data": {
      "text/plain": [
       "0"
      ]
     },
     "execution_count": 73,
     "metadata": {},
     "output_type": "execute_result"
    }
   ],
   "source": [
    "power(3,6)"
   ]
  },
  {
   "cell_type": "code",
   "execution_count": 74,
   "id": "5e81391c",
   "metadata": {},
   "outputs": [],
   "source": [
    "# Overlapping squares\n",
    "#given the coordinates of two rectangles : L1,R1, L2, R2\n",
    "#we have to find whether these two rectngles will overlap or not\n",
    "\n",
    "def overlap_sq(l1,r1,l2,r2):\n",
    "    if l1[0]> r2[0] or l2[0]> r1[0]:\n",
    "        return 0\n",
    "    if l1[1]< r2[1] or l2[1]< r1[1]:\n",
    "        return 0\n",
    "    return 1\n",
    "    "
   ]
  },
  {
   "cell_type": "code",
   "execution_count": 75,
   "id": "149a34a0",
   "metadata": {},
   "outputs": [
    {
     "data": {
      "text/plain": [
       "1"
      ]
     },
     "execution_count": 75,
     "metadata": {},
     "output_type": "execute_result"
    }
   ],
   "source": [
    "overlap_sq((0,10),(10,0),(5,5),(15,0))"
   ]
  },
  {
   "cell_type": "code",
   "execution_count": 76,
   "id": "74cae445",
   "metadata": {},
   "outputs": [],
   "source": [
    "#clock angle between the hands of a clock\n",
    "\n",
    "def get_angle(h,m):\n",
    "    if h == 12:\n",
    "        h = 0\n",
    "    if m == 60:\n",
    "        m = 0\n",
    "        \n",
    "    hourangle = 0.5*(h*60 +m)\n",
    "    minangle = 6*m\n",
    "    angle = abs(hourangle- minangle)\n",
    "    if (angle>180):\n",
    "        angle = int(360 - angle)\n",
    "    else:\n",
    "        angle = int(angle)\n",
    "    return angle    \n",
    "\n",
    "\n"
   ]
  },
  {
   "cell_type": "code",
   "execution_count": 77,
   "id": "20e46986",
   "metadata": {},
   "outputs": [
    {
     "data": {
      "text/plain": [
       "97"
      ]
     },
     "execution_count": 77,
     "metadata": {},
     "output_type": "execute_result"
    }
   ],
   "source": [
    "get_angle(6,15)"
   ]
  },
  {
   "cell_type": "code",
   "execution_count": 78,
   "id": "8a8bca0d",
   "metadata": {},
   "outputs": [],
   "source": [
    "def count_squares(num):\n",
    "    num = int(math.sqrt(num-1))\n",
    "    return num"
   ]
  },
  {
   "cell_type": "code",
   "execution_count": 79,
   "id": "e15e7ccb",
   "metadata": {},
   "outputs": [
    {
     "data": {
      "text/plain": [
       "4"
      ]
     },
     "execution_count": 79,
     "metadata": {},
     "output_type": "execute_result"
    }
   ],
   "source": [
    "count_squares(24)"
   ]
  },
  {
   "cell_type": "code",
   "execution_count": 80,
   "id": "aad354ec",
   "metadata": {},
   "outputs": [],
   "source": [
    "#for any integer n find the possible numbe of trailing zeroes in N! (n factorial)\n",
    "def trailing_zero(n):\n",
    "    j = 5  #j as 5\n",
    "    ans = 0  #ans be 0\n",
    "    while (j<=n):  #5<number entered (ex= 5<56)\n",
    "        ans = ans + n//j #1.(ans = ans+ 56//5= 11)...2. (ans = 11+56//25= 11+2= 13)\n",
    "        j = j*5  #(5*5 = 25 this 25 is now our j)\n",
    "    return ans    "
   ]
  },
  {
   "cell_type": "code",
   "execution_count": 81,
   "id": "9be35bcb",
   "metadata": {},
   "outputs": [
    {
     "data": {
      "text/plain": [
       "13"
      ]
     },
     "execution_count": 81,
     "metadata": {},
     "output_type": "execute_result"
    }
   ],
   "source": [
    "trailing_zero(56)"
   ]
  },
  {
   "cell_type": "code",
   "execution_count": 82,
   "id": "9cc9e216",
   "metadata": {},
   "outputs": [],
   "source": [
    "# Trianglular numbers\n",
    "def istrianglular(num):\n",
    "    ans = int(math.sqrt(2*num))\n",
    "    if ans*(ans+1) == 2*num:\n",
    "        return 1\n",
    "    else:\n",
    "        return 0\n",
    "    "
   ]
  },
  {
   "cell_type": "code",
   "execution_count": 83,
   "id": "1cda0747",
   "metadata": {},
   "outputs": [
    {
     "data": {
      "text/plain": [
       "1"
      ]
     },
     "execution_count": 83,
     "metadata": {},
     "output_type": "execute_result"
    }
   ],
   "source": [
    "istrianglular(10)"
   ]
  },
  {
   "cell_type": "markdown",
   "id": "c9196318",
   "metadata": {},
   "source": [
    "# Arrays"
   ]
  },
  {
   "cell_type": "code",
   "execution_count": 14,
   "id": "84881d8f",
   "metadata": {},
   "outputs": [],
   "source": [
    "#find the minimum and the maximum number in an array\n",
    "\n",
    "def min_max(arr,n): \n",
    "    if n%2 == 0:\n",
    "        mx = max(arr[0],arr[1])\n",
    "        mn = min(arr[0],arr[1])\n",
    "        i = 2\n",
    "    else:\n",
    "        mx = mn = arr[0]\n",
    "        i = 1\n",
    "    while(i<n-1): \n",
    "        if arr[i]<arr[i+1]:\n",
    "            mx = max(arr[i+1])\n",
    "            mn = min(arr[i])\n",
    "        else:\n",
    "            mx = max(mx, arr[i])\n",
    "            mn = min(mn, arr[i+1])\n",
    "        i+=2\n",
    "    return (mx,mn)     \n",
    "    \n",
    "    "
   ]
  },
  {
   "cell_type": "code",
   "execution_count": 10,
   "id": "3ab91038",
   "metadata": {},
   "outputs": [],
   "source": [
    "def min_max(arr,n):\n",
    "    if n%2 == 0:  #array has even no of elements? t/f\n",
    "        mx = max(arr[0],arr[1]) #if t\n",
    "        mn = min(arr[0],arr[1])\n",
    "        i = 2\n",
    "    else:  #if false\n",
    "        mn = mx = arr[0]\n",
    "        i = 1\n",
    "    while(i<n-1):\n",
    "              #initialize first element as alone it is the min it is the max \n",
    "            if arr[i]<arr[i+1]:\n",
    "                mx = max(mx,arr[i+1])  #compare greater value from if with the mx that is our first element for now \n",
    "                mn = min(mn,arr[i])  #compare lesser value from if with the mn that is first element for now\n",
    "            else:\n",
    "                mx = max(mx,arr[i])\n",
    "                mn = min(mn,arr[i+1])\n",
    "            i+=2\n",
    "    return (mx,mn)        "
   ]
  },
  {
   "cell_type": "code",
   "execution_count": 15,
   "id": "422b686b",
   "metadata": {},
   "outputs": [
    {
     "data": {
      "text/plain": [
       "(8889, 1)"
      ]
     },
     "execution_count": 15,
     "metadata": {},
     "output_type": "execute_result"
    }
   ],
   "source": [
    "arr = [1,3,144,6,8889,1233]\n",
    "n = 6\n",
    "min_max(arr,n)"
   ]
  },
  {
   "cell_type": "code",
   "execution_count": 12,
   "id": "1a01e17c",
   "metadata": {},
   "outputs": [
    {
     "data": {
      "text/plain": [
       "8889"
      ]
     },
     "execution_count": 12,
     "metadata": {},
     "output_type": "execute_result"
    }
   ],
   "source": [
    "max(arr)"
   ]
  },
  {
   "cell_type": "code",
   "execution_count": 13,
   "id": "a391730b",
   "metadata": {},
   "outputs": [
    {
     "data": {
      "text/plain": [
       "1"
      ]
     },
     "execution_count": 13,
     "metadata": {},
     "output_type": "execute_result"
    }
   ],
   "source": [
    "min(arr)"
   ]
  },
  {
   "cell_type": "code",
   "execution_count": 86,
   "id": "1fd89a2f",
   "metadata": {},
   "outputs": [],
   "source": [
    "#find the maximum and the minimum number from a given list of numbers\n",
    "\n",
    "def min_max(arr,n):\n",
    "    if n%2 == 0:\n",
    "        mx = max(arr[0],arr[1])\n",
    "        mn = min(arr[0], arr[1])\n",
    "        i = 2\n",
    "    else:\n",
    "        mn = mx = arr[0]\n",
    "        i = 1\n",
    "    while(i<n-1):\n",
    "        if arr[i]< arr[i+1]:\n",
    "                mx = max(mx,arr[i+1])\n",
    "                mn = min(mn,arr[i])\n",
    "        else:\n",
    "            mx = max(mx, arr[i])\n",
    "            mn = min(mn,arr[i+1])\n",
    "        i+=2 \n",
    "    return(mx,mn)     "
   ]
  },
  {
   "cell_type": "code",
   "execution_count": 87,
   "id": "403960af",
   "metadata": {},
   "outputs": [
    {
     "data": {
      "text/plain": [
       "(54545, 2)"
      ]
     },
     "execution_count": 87,
     "metadata": {},
     "output_type": "execute_result"
    }
   ],
   "source": [
    "arr = [12,54545,2445,2]\n",
    "n = 4\n",
    "min_max(arr,n)"
   ]
  },
  {
   "cell_type": "code",
   "execution_count": 88,
   "id": "b54a1cfb",
   "metadata": {},
   "outputs": [],
   "source": [
    "#print sum of elements of array\n",
    "\n",
    "def sum_array(arr,n):\n",
    "    sa = 0\n",
    "    for i in range(0,len(arr)):\n",
    "        sa = sa+arr[i]\n",
    "    return sa    "
   ]
  },
  {
   "cell_type": "code",
   "execution_count": 89,
   "id": "1f71a358",
   "metadata": {},
   "outputs": [
    {
     "data": {
      "text/plain": [
       "57004"
      ]
     },
     "execution_count": 89,
     "metadata": {},
     "output_type": "execute_result"
    }
   ],
   "source": [
    "sum_array(arr,n)"
   ]
  },
  {
   "cell_type": "code",
   "execution_count": 90,
   "id": "e6b1e3ab",
   "metadata": {},
   "outputs": [],
   "source": [
    "# find the number of unduplicated elements from an array\n",
    "def unduplicated(arr,n):\n",
    "    count_ud = 0\n",
    "    count_d = 0\n",
    "    for i in range(0,len(arr)):\n",
    "        for j in range(0,len(arr)):\n",
    "            if arr[i]!= arr[j]:\n",
    "                count_ud+=1\n",
    "            else:\n",
    "                count_d+=1\n",
    "    return (count_d,count_ud)                \n",
    "                \n",
    "                \n"
   ]
  },
  {
   "cell_type": "code",
   "execution_count": 91,
   "id": "0cb1a9a0",
   "metadata": {},
   "outputs": [],
   "source": [
    "array = [1,2,4,3,2,5,5,7,8]\n",
    "n = 9"
   ]
  },
  {
   "cell_type": "code",
   "execution_count": 92,
   "id": "ea082ec3",
   "metadata": {},
   "outputs": [
    {
     "data": {
      "text/plain": [
       "(13, 68)"
      ]
     },
     "execution_count": 92,
     "metadata": {},
     "output_type": "execute_result"
    }
   ],
   "source": [
    "unduplicated(array,n)"
   ]
  },
  {
   "cell_type": "code",
   "execution_count": 93,
   "id": "c8e89038",
   "metadata": {},
   "outputs": [],
   "source": [
    "def notduplicated(arr,n):\n",
    "    i = 0\n",
    "    for j in range(1,n):\n",
    "        if arr[0]!= arr[j]:\n",
    "            i+=1\n",
    "            arr[i]= arr[j]\n",
    "    return (i+1)        \n",
    "            "
   ]
  },
  {
   "cell_type": "code",
   "execution_count": 94,
   "id": "0315c707",
   "metadata": {},
   "outputs": [
    {
     "data": {
      "text/plain": [
       "9"
      ]
     },
     "execution_count": 94,
     "metadata": {},
     "output_type": "execute_result"
    }
   ],
   "source": [
    "notduplicated(array,n)"
   ]
  },
  {
   "cell_type": "code",
   "execution_count": 95,
   "id": "2404eb78",
   "metadata": {},
   "outputs": [],
   "source": [
    "def unduplicated(arr,n):\n",
    "    i = 0\n",
    "    for j in range(1,n):\n",
    "            if arr[i]!= arr[j]:\n",
    "                i+=1 \n",
    "                arr[i] = arr[j]    \n",
    "    return (i+1)                \n",
    "                "
   ]
  },
  {
   "cell_type": "code",
   "execution_count": 96,
   "id": "a7d3771c",
   "metadata": {},
   "outputs": [],
   "source": [
    "# Find the number of triangles\n",
    "\n",
    "def find_triangles(arr,n):\n",
    "    arr.sort()\n",
    "    count = 0\n",
    "    for i in range(n-2):\n",
    "        k = i+2\n",
    "        for j in range(i+1,n):\n",
    "           \n",
    "            while(k<n and arr[i]+arr[j]> arr[k]):\n",
    "                k+=1\n",
    "                count+=k-j-1 \n",
    "    return count            \n",
    "                "
   ]
  },
  {
   "cell_type": "code",
   "execution_count": 97,
   "id": "a72c4029",
   "metadata": {},
   "outputs": [
    {
     "data": {
      "text/plain": [
       "1"
      ]
     },
     "execution_count": 97,
     "metadata": {},
     "output_type": "execute_result"
    }
   ],
   "source": [
    "arr = [1,3,5,6]\n",
    "n = 4\n",
    "find_triangles(arr,n)"
   ]
  },
  {
   "cell_type": "code",
   "execution_count": 98,
   "id": "608df248",
   "metadata": {},
   "outputs": [
    {
     "name": "stdout",
     "output_type": "stream",
     "text": [
      "        *\n",
      "       ***\n",
      "      *****\n",
      "     *******\n",
      "    *********\n",
      "   ***********\n",
      "  *************\n",
      " ***************\n",
      "*****************\n"
     ]
    }
   ],
   "source": [
    "#star triangle\n",
    "def pyfunc(r):\n",
    "    for x in range(r):\n",
    "        print(' '*(r-x-1)+'*'*(2*x+1))    \n",
    "pyfunc(9)"
   ]
  },
  {
   "cell_type": "code",
   "execution_count": 99,
   "id": "fdcb4b5e",
   "metadata": {},
   "outputs": [
    {
     "name": "stdout",
     "output_type": "stream",
     "text": [
      "                        &\n",
      "                       &&&\n",
      "                      &&&&&\n",
      "                     &&&&&&&\n",
      "                    &&&&&&&&&\n",
      "                   &&&&&&&&&&&\n",
      "                  &&&&&&&&&&&&&\n",
      "                 &&&&&&&&&&&&&&&\n",
      "                &&&&&&&&&&&&&&&&&\n",
      "               &&&&&&&&&&&&&&&&&&&\n",
      "              &&&&&&&&&&&&&&&&&&&&&\n",
      "             &&&&&&&&&&&&&&&&&&&&&&&\n",
      "            &&&&&&&&&&&&&&&&&&&&&&&&&\n",
      "           &&&&&&&&&&&&&&&&&&&&&&&&&&&\n",
      "          &&&&&&&&&&&&&&&&&&&&&&&&&&&&&\n",
      "         &&&&&&&&&&&&&&&&&&&&&&&&&&&&&&&\n",
      "        &&&&&&&&&&&&&&&&&&&&&&&&&&&&&&&&&\n",
      "       &&&&&&&&&&&&&&&&&&&&&&&&&&&&&&&&&&&\n",
      "      &&&&&&&&&&&&&&&&&&&&&&&&&&&&&&&&&&&&&\n",
      "     &&&&&&&&&&&&&&&&&&&&&&&&&&&&&&&&&&&&&&&\n",
      "    &&&&&&&&&&&&&&&&&&&&&&&&&&&&&&&&&&&&&&&&&\n",
      "   &&&&&&&&&&&&&&&&&&&&&&&&&&&&&&&&&&&&&&&&&&&\n",
      "  &&&&&&&&&&&&&&&&&&&&&&&&&&&&&&&&&&&&&&&&&&&&&\n",
      " &&&&&&&&&&&&&&&&&&&&&&&&&&&&&&&&&&&&&&&&&&&&&&&\n",
      "&&&&&&&&&&&&&&&&&&&&&&&&&&&&&&&&&&&&&&&&&&&&&&&&&\n"
     ]
    }
   ],
   "source": [
    "r = 25\n",
    "for x in range(r):\n",
    "    print(' '*(r-x-1)+'&'*(2*x+1))"
   ]
  },
  {
   "cell_type": "code",
   "execution_count": 100,
   "id": "c927d3c5",
   "metadata": {},
   "outputs": [],
   "source": [
    "def find_palindrome(string):\n",
    "    rev_string = string[::-1]\n",
    "    if rev_string == string:\n",
    "        print(\"is plaindrome!\")\n",
    "    else:\n",
    "        print(\"Not a palindrome!\")"
   ]
  },
  {
   "cell_type": "code",
   "execution_count": 101,
   "id": "f5662e60",
   "metadata": {},
   "outputs": [
    {
     "name": "stdout",
     "output_type": "stream",
     "text": [
      "is plaindrome!\n"
     ]
    }
   ],
   "source": [
    "find_palindrome(\"manam\")"
   ]
  },
  {
   "cell_type": "code",
   "execution_count": 102,
   "id": "d7565889",
   "metadata": {},
   "outputs": [],
   "source": [
    "def factorial(num):\n",
    "    fact = 1\n",
    "    for i in range(1,num+1):\n",
    "        fact = num*factorial(num-1)\n",
    "    return fact"
   ]
  },
  {
   "cell_type": "code",
   "execution_count": 103,
   "id": "38243a9a",
   "metadata": {},
   "outputs": [
    {
     "data": {
      "text/plain": [
       "24"
      ]
     },
     "execution_count": 103,
     "metadata": {},
     "output_type": "execute_result"
    }
   ],
   "source": [
    "factorial(4)"
   ]
  },
  {
   "cell_type": "code",
   "execution_count": 104,
   "id": "bae6d68f",
   "metadata": {},
   "outputs": [],
   "source": [
    "def factorial(num):\n",
    "    if (num ==0 or num ==1):\n",
    "        return 1\n",
    "    else:\n",
    "    \n",
    "        fact = num*factorial(num-1)\n",
    "    return fact"
   ]
  },
  {
   "cell_type": "code",
   "execution_count": 105,
   "id": "4ad002ac",
   "metadata": {},
   "outputs": [
    {
     "data": {
      "text/plain": [
       "5040"
      ]
     },
     "execution_count": 105,
     "metadata": {},
     "output_type": "execute_result"
    }
   ],
   "source": [
    "factorial(7)"
   ]
  },
  {
   "cell_type": "code",
   "execution_count": 106,
   "id": "d26aa056",
   "metadata": {},
   "outputs": [],
   "source": [
    "num = 8\n",
    "fact = 1\n",
    "for i in range(1,num+1):\n",
    "    \n",
    "    fact = fact*i"
   ]
  },
  {
   "cell_type": "code",
   "execution_count": 107,
   "id": "f107ab08",
   "metadata": {},
   "outputs": [
    {
     "data": {
      "text/plain": [
       "40320"
      ]
     },
     "execution_count": 107,
     "metadata": {},
     "output_type": "execute_result"
    }
   ],
   "source": [
    "fact"
   ]
  },
  {
   "cell_type": "code",
   "execution_count": 108,
   "id": "1ad2feb4",
   "metadata": {},
   "outputs": [],
   "source": [
    "#find the highest integer in the list using recursion by creating a function\n",
    "\n",
    "def highest_integer(l1):\n",
    "    if len(l1) == 1:\n",
    "        return l1[0]\n",
    "    else:\n",
    "        m = highest_integer(l1[1:])\n",
    "        return m if m> l1[0] else l1[0]\n",
    "    "
   ]
  },
  {
   "cell_type": "code",
   "execution_count": 109,
   "id": "3e6e95bf",
   "metadata": {},
   "outputs": [
    {
     "data": {
      "text/plain": [
       "90"
      ]
     },
     "execution_count": 109,
     "metadata": {},
     "output_type": "execute_result"
    }
   ],
   "source": [
    "highest_integer([12,43,6,78,21,90])"
   ]
  },
  {
   "cell_type": "code",
   "execution_count": null,
   "id": "ed784b68",
   "metadata": {},
   "outputs": [],
   "source": []
  }
 ],
 "metadata": {
  "kernelspec": {
   "display_name": "Python 3 (ipykernel)",
   "language": "python",
   "name": "python3"
  },
  "language_info": {
   "codemirror_mode": {
    "name": "ipython",
    "version": 3
   },
   "file_extension": ".py",
   "mimetype": "text/x-python",
   "name": "python",
   "nbconvert_exporter": "python",
   "pygments_lexer": "ipython3",
   "version": "3.10.4"
  }
 },
 "nbformat": 4,
 "nbformat_minor": 5
}
